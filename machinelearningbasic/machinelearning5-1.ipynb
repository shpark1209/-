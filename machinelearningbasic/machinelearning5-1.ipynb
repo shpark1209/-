{
 "cells": [
  {
   "cell_type": "code",
   "execution_count": 1,
   "id": "30b092a8-7880-42f0-9cba-343aa11dd728",
   "metadata": {},
   "outputs": [],
   "source": [
    "import numpy as np\n",
    "from sklearn.datasets import load_boston"
   ]
  },
  {
   "cell_type": "code",
   "execution_count": 2,
   "id": "0543b788-c1d7-4285-a2e6-0b647fbec324",
   "metadata": {},
   "outputs": [
    {
     "name": "stdout",
     "output_type": "stream",
     "text": [
      "dict_keys(['data', 'target', 'feature_names', 'DESCR', 'filename', 'data_module'])\n"
     ]
    },
    {
     "name": "stderr",
     "output_type": "stream",
     "text": [
      "C:\\anaconda3\\lib\\site-packages\\sklearn\\utils\\deprecation.py:87: FutureWarning: Function load_boston is deprecated; `load_boston` is deprecated in 1.0 and will be removed in 1.2.\n",
      "\n",
      "    The Boston housing prices dataset has an ethical problem. You can refer to\n",
      "    the documentation of this function for further details.\n",
      "\n",
      "    The scikit-learn maintainers therefore strongly discourage the use of this\n",
      "    dataset unless the purpose of the code is to study and educate about\n",
      "    ethical issues in data science and machine learning.\n",
      "\n",
      "    In this special case, you can fetch the dataset from the original\n",
      "    source::\n",
      "\n",
      "        import pandas as pd\n",
      "        import numpy as np\n",
      "\n",
      "\n",
      "        data_url = \"http://lib.stat.cmu.edu/datasets/boston\"\n",
      "        raw_df = pd.read_csv(data_url, sep=\"\\s+\", skiprows=22, header=None)\n",
      "        data = np.hstack([raw_df.values[::2, :], raw_df.values[1::2, :2]])\n",
      "        target = raw_df.values[1::2, 2]\n",
      "\n",
      "    Alternative datasets include the California housing dataset (i.e.\n",
      "    :func:`~sklearn.datasets.fetch_california_housing`) and the Ames housing\n",
      "    dataset. You can load the datasets as follows::\n",
      "\n",
      "        from sklearn.datasets import fetch_california_housing\n",
      "        housing = fetch_california_housing()\n",
      "\n",
      "    for the California housing dataset and::\n",
      "\n",
      "        from sklearn.datasets import fetch_openml\n",
      "        housing = fetch_openml(name=\"house_prices\", as_frame=True)\n",
      "\n",
      "    for the Ames housing dataset.\n",
      "    \n",
      "  warnings.warn(msg, category=FutureWarning)\n"
     ]
    }
   ],
   "source": [
    "boston=load_boston()\n",
    "print(boston.keys())"
   ]
  },
  {
   "cell_type": "code",
   "execution_count": 3,
   "id": "5a25af6b-e737-4892-8265-e566b41be6d0",
   "metadata": {},
   "outputs": [
    {
     "name": "stdout",
     "output_type": "stream",
     "text": [
      "['CRIM' 'ZN' 'INDUS' 'CHAS' 'NOX' 'RM' 'AGE' 'DIS' 'RAD' 'TAX' 'PTRATIO'\n",
      " 'B' 'LSTAT']\n",
      "13\n"
     ]
    }
   ],
   "source": [
    "print(boston['feature_names'])\n",
    "print(len(boston['feature_names']))"
   ]
  },
  {
   "cell_type": "code",
   "execution_count": 4,
   "id": "21b41150-5090-479c-a403-47771508990b",
   "metadata": {},
   "outputs": [
    {
     "name": "stdout",
     "output_type": "stream",
     "text": [
      "data shpae: (506, 13)\n",
      "target shape: (506,)\n"
     ]
    }
   ],
   "source": [
    "print('data shpae:',boston['data'].shape)\n",
    "print('target shape:',boston['target'].shape)"
   ]
  },
  {
   "cell_type": "code",
   "execution_count": 5,
   "id": "1ae0ca0c-ce22-4612-881d-926a19a4e8c1",
   "metadata": {},
   "outputs": [
    {
     "name": "stdout",
     "output_type": "stream",
     "text": [
      "[[6.3200e-03 1.8000e+01 2.3100e+00 0.0000e+00 5.3800e-01 6.5750e+00\n",
      "  6.5200e+01 4.0900e+00 1.0000e+00 2.9600e+02 1.5300e+01 3.9690e+02\n",
      "  4.9800e+00]\n",
      " [2.7310e-02 0.0000e+00 7.0700e+00 0.0000e+00 4.6900e-01 6.4210e+00\n",
      "  7.8900e+01 4.9671e+00 2.0000e+00 2.4200e+02 1.7800e+01 3.9690e+02\n",
      "  9.1400e+00]]\n",
      "[24.  21.6]\n"
     ]
    }
   ],
   "source": [
    "print(boston['data'][:2])\n",
    "print(boston['target'][:2])"
   ]
  },
  {
   "cell_type": "code",
   "execution_count": 6,
   "id": "bcbe382c-2df5-43c7-ab9e-72754efd8b61",
   "metadata": {},
   "outputs": [],
   "source": [
    "x=boston['data']\n",
    "y=boston['target']\n",
    "index=[i for i in range(x.shape[0])]\n",
    "np.random.shuffle(index)\n",
    "x=x[index]\n",
    "y=y[index]"
   ]
  },
  {
   "cell_type": "code",
   "execution_count": 7,
   "id": "1adcad7c-871b-4b25-886d-29f48359bfa0",
   "metadata": {},
   "outputs": [
    {
     "name": "stdout",
     "output_type": "stream",
     "text": [
      "train data: (400, 13) test data: (106, 13)\n",
      "train data: (400,) test data: (106,)\n"
     ]
    }
   ],
   "source": [
    "x_train, y_train=x[:400],y[:400]\n",
    "x_test,y_test=x[400:],y[400:]\n",
    "print('train data:', x_train.shape, 'test data:', x_test.shape)\n",
    "print('train data:',y_train.shape, 'test data:', y_test.shape)"
   ]
  },
  {
   "cell_type": "code",
   "execution_count": 8,
   "id": "7049d69d-8928-4426-a772-4495d61a5359",
   "metadata": {},
   "outputs": [],
   "source": [
    "w=0.001*np.random.randn(13)\n",
    "b=0.001*np.random.randn(1)\n",
    "def linear(x):\n",
    "    return x.dot(w)+b"
   ]
  },
  {
   "cell_type": "code",
   "execution_count": 9,
   "id": "4353908a",
   "metadata": {},
   "outputs": [],
   "source": [
    "def mean_squared_error(p,y):\n",
    "    return np.mean((p-y)**2)"
   ]
  },
  {
   "cell_type": "code",
   "execution_count": 10,
   "id": "89ce7f77",
   "metadata": {},
   "outputs": [],
   "source": [
    "def numerical_gradient(f,theta):\n",
    "    h=1e-4\n",
    "    grad=np.zeros_like(theta)\n",
    "    for idx in range(theta.size):\n",
    "        tmp_val=theta[idx]\n",
    "        theta[idx]=tmp_val+h\n",
    "        fxh1=f(theta)\n",
    "        theta[idx]=tmp_val-h\n",
    "        fxh2=f(theta)\n",
    "        grad[idx]=(fxh1-fxh2)/(2*h)\n",
    "        theta[idx]=tmp_val\n",
    "    return grad"
   ]
  },
  {
   "cell_type": "code",
   "execution_count": 11,
   "id": "37937915",
   "metadata": {},
   "outputs": [
    {
     "name": "stdout",
     "output_type": "stream",
     "text": [
      "0 epoch, train loss=470.9727686634948\n",
      "10000 epoch, train loss=46.247246985872316\n",
      "20000 epoch, train loss=42.17876035453676\n",
      "30000 epoch, train loss=39.99218752939859\n",
      "40000 epoch, train loss=38.33460047122817\n",
      "50000 epoch, train loss=36.90613463656902\n",
      "60000 epoch, train loss=35.61665246219038\n",
      "70000 epoch, train loss=34.43350174904075\n",
      "80000 epoch, train loss=33.34160803691983\n",
      "90000 epoch, train loss=32.331793956852586\n",
      "100000 epoch, train loss=31.397138557556353\n",
      "110000 epoch, train loss=30.531772938021753\n",
      "120000 epoch, train loss=29.730452919056553\n",
      "130000 epoch, train loss=28.98839131595473\n",
      "140000 epoch, train loss=28.301180852550964\n",
      "150000 epoch, train loss=27.66475034509228\n",
      "160000 epoch, train loss=27.07533403227317\n",
      "170000 epoch, train loss=26.529446784442083\n",
      "180000 epoch, train loss=26.023862478432683\n",
      "190000 epoch, train loss=25.555594469762855\n"
     ]
    }
   ],
   "source": [
    "num_epoch=200000\n",
    "learning_rate=0.000003\n",
    "for epoch in range(num_epoch):\n",
    "    w=w-learning_rate*numerical_gradient(lambda w: mean_squared_error(linear(x_train), y_train), w)\n",
    "    b=b-learning_rate*numerical_gradient(lambda b:mean_squared_error(linear(x_train), y_train), b)\n",
    "    pred_train=linear(x_train)\n",
    "    loss=mean_squared_error(pred_train, y_train)\n",
    "    if epoch%10000==0:\n",
    "        print(\"{0} epoch, train loss={1}\".format(epoch, loss))"
   ]
  },
  {
   "cell_type": "code",
   "execution_count": 12,
   "id": "e61f755f",
   "metadata": {},
   "outputs": [
    {
     "name": "stdout",
     "output_type": "stream",
     "text": [
      "199999 epoch, test loss=43.412964692379866\n",
      "[-0.08596395  0.07381788 -0.01222227  0.2395441   0.1564181   3.47084275\n",
      "  0.0374533  -0.40351386  0.14298208 -0.01014143  0.07431321  0.01893345\n",
      " -0.54284327]\n",
      "[0.32301757]\n"
     ]
    }
   ],
   "source": [
    "pred_test=linear(x_test)\n",
    "loss=mean_squared_error(pred_test, y_test)\n",
    "print(\"{0} epoch, test loss={1}\".format(epoch, loss))\n",
    "print(w)\n",
    "print(b)"
   ]
  },
  {
   "cell_type": "code",
   "execution_count": null,
   "id": "710fcd6e",
   "metadata": {},
   "outputs": [],
   "source": []
  }
 ],
 "metadata": {
  "kernelspec": {
   "display_name": "Python 3 (ipykernel)",
   "language": "python",
   "name": "python3"
  },
  "language_info": {
   "codemirror_mode": {
    "name": "ipython",
    "version": 3
   },
   "file_extension": ".py",
   "mimetype": "text/x-python",
   "name": "python",
   "nbconvert_exporter": "python",
   "pygments_lexer": "ipython3",
   "version": "3.9.12"
  }
 },
 "nbformat": 4,
 "nbformat_minor": 5
}
