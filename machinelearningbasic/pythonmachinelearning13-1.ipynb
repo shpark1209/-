{
 "cells": [
  {
   "cell_type": "code",
   "execution_count": 12,
   "id": "ec206fc7",
   "metadata": {},
   "outputs": [],
   "source": [
    "import torch\n",
    "import torch.nn as nn\n",
    "import torch.nn.functional as F\n",
    "import torch.optim as optim\n",
    "from torchvision import datasets, transforms\n",
    "import matplotlib.pyplot as plt"
   ]
  },
  {
   "cell_type": "code",
   "execution_count": 13,
   "id": "cb6592fe",
   "metadata": {},
   "outputs": [],
   "source": [
    "batch_size=64\n",
    "test_batch_size=1000\n",
    "train_data=datasets.MNIST('./data', train=True, download=True, transform=transforms.ToTensor())\n",
    "test_data=datasets.MNIST('./data', train=False, download=True, transform=transforms.ToTensor())\n",
    "train_loader=torch.utils.data.DataLoader(train_data, batch_size=batch_size, shuffle=True)\n",
    "test_loader=torch.utils.data.DataLoader(test_data, batch_size=test_batch_size)"
   ]
  },
  {
   "cell_type": "code",
   "execution_count": 14,
   "id": "fe776489",
   "metadata": {},
   "outputs": [
    {
     "name": "stdout",
     "output_type": "stream",
     "text": [
      "60000\n",
      "10000\n"
     ]
    }
   ],
   "source": [
    "print(len(train_loader.dataset))\n",
    "print(len(test_loader.dataset))"
   ]
  },
  {
   "cell_type": "code",
   "execution_count": 15,
   "id": "39f46419",
   "metadata": {},
   "outputs": [
    {
     "name": "stdout",
     "output_type": "stream",
     "text": [
      "torch.Size([1, 28, 28])\n",
      "5\n"
     ]
    },
    {
     "data": {
      "text/plain": [
       "<function matplotlib.pyplot.show(close=None, block=None)>"
      ]
     },
     "execution_count": 15,
     "metadata": {},
     "output_type": "execute_result"
    },
    {
     "data": {
      "image/png": "[encoded data removed]",
      "text/plain": [
       "<Figure size 432x288 with 1 Axes>"
      ]
     },
     "metadata": {
      "needs_background": "light"
     },
     "output_type": "display_data"
    }
   ],
   "source": [
    "print(train_loader.dataset[0][0].shape)\n",
    "print(train_loader.dataset[0][1])\n",
    "plt.imshow(train_loader.dataset[0][0][0])\n",
    "plt.show"
   ]
  },
  {
   "cell_type": "code",
   "execution_count": 18,
   "id": "d5fdf2fc",
   "metadata": {},
   "outputs": [],
   "source": [
    "class Net(nn.Module):\n",
    "    def __init__(self):\n",
    "        super(Net,self).__init__()\n",
    "        self.fc1=nn.Linear(784, 256)\n",
    "        self.fc2=nn.Linear(256, 64)\n",
    "        self.fc3=nn.Linear(64, 10)  #10인 이유는 0~9까지의 라벨을 예측하려고 하기 때문\n",
    "    def forward(self,x):\n",
    "        x=x.view(-1,784)\n",
    "        x=F.relu(self.fc1(x))\n",
    "        x=F.relu(self.fc2(x))\n",
    "        x=self.fc3(x)\n",
    "        return x"
   ]
  },
  {
   "cell_type": "code",
   "execution_count": 22,
   "id": "f52403e8",
   "metadata": {},
   "outputs": [],
   "source": [
    "device=torch.device(\"cuda\" if torch.cuda.is_available() else \"cpu\")\n",
    "model=Net().to(device)\n",
    "lr=0.01\n",
    "optimizer=optim.SGD(model.parameters(), lr=lr)\n",
    "loss_func=nn.CrossEntropyLoss()"
   ]
  },
  {
   "cell_type": "code",
   "execution_count": 23,
   "id": "ab6edff4",
   "metadata": {},
   "outputs": [
    {
     "name": "stdout",
     "output_type": "stream",
     "text": [
      "Train Epoch 1 \tLoss: 0.025864 \tAccuracy: 35077/60000 (58%)\n",
      "Train Epoch 2 \tLoss: 0.008399 \tAccuracy: 51422/60000 (86%)\n",
      "Train Epoch 3 \tLoss: 0.006159 \tAccuracy: 53322/60000 (89%)\n",
      "Train Epoch 4 \tLoss: 0.005411 \tAccuracy: 54131/60000 (90%)\n",
      "Train Epoch 5 \tLoss: 0.004940 \tAccuracy: 54611/60000 (91%)\n",
      "Train Epoch 6 \tLoss: 0.004572 \tAccuracy: 54983/60000 (92%)\n",
      "Train Epoch 7 \tLoss: 0.004256 \tAccuracy: 55332/60000 (92%)\n",
      "Train Epoch 8 \tLoss: 0.003983 \tAccuracy: 55608/60000 (93%)\n",
      "Train Epoch 9 \tLoss: 0.003737 \tAccuracy: 55915/60000 (93%)\n",
      "Train Epoch 10 \tLoss: 0.003509 \tAccuracy: 56156/60000 (94%)\n"
     ]
    }
   ],
   "source": [
    "epochs=10\n",
    "for epoch in range(1, epochs+1):\n",
    "    model.train()\n",
    "    train_loss=0\n",
    "    correct=0\n",
    "    for batch_idx, (data, target) in enumerate(train_loader):\n",
    "        data, target=data.to(device), target.to(device)\n",
    "        optimizer.zero_grad()\n",
    "        output=model(data)                  #트레이닝 데이터를 모델에 입력하여 계산\n",
    "        loss=loss_func(output, target)\n",
    "        loss.backward()\n",
    "        optimizer.step()\n",
    "        train_loss+=loss.item()\n",
    "        pred=output.argmax(dim=1)\n",
    "        correct+=sum(pred==target).item()\n",
    "    train_loss/=len(train_loader.dataset)\n",
    "    print('Train Epoch {} \\tLoss: {:.6f} \\tAccuracy: {}/{} ({:.0f}%)'.format(epoch, train_loss, correct, len(train_loader.dataset),100*correct/len(train_loader.dataset)))\n",
    "    "
   ]
  },
  {
   "cell_type": "code",
   "execution_count": 25,
   "id": "75eed2cb",
   "metadata": {},
   "outputs": [
    {
     "name": "stdout",
     "output_type": "stream",
     "text": [
      "Test set: Average loss:0.0002, Accuracy:9389/10000 (94%)\n",
      "\n"
     ]
    }
   ],
   "source": [
    "model.eval()\n",
    "test_loss=0\n",
    "correct=0\n",
    "with torch.no_grad():\n",
    "    for data,target in test_loader:\n",
    "        data,target=data.to(device), target.to(device)\n",
    "        output=model(data)\n",
    "        test_loss+=loss_func(output, target).item()\n",
    "        pred=output.argmax(dim=1)\n",
    "        correct+=pred.eq(target).sum().item()\n",
    "test_loss/=len(test_loader.dataset)\n",
    "print(\"Test set: Average loss:{:.4f}, Accuracy:{}/{} ({:.0f}%)\\n\".format(test_loss, correct,len(test_loader.dataset), 100.*correct/len(test_loader.dataset)))"
   ]
  },
  {
   "cell_type": "code",
   "execution_count": null,
   "id": "cc176b74",
   "metadata": {},
   "outputs": [],
   "source": []
  }
 ],
 "metadata": {
  "kernelspec": {
   "display_name": "Python 3 (ipykernel)",
   "language": "python",
   "name": "python3"
  },
  "language_info": {
   "codemirror_mode": {
    "name": "ipython",
    "version": 3
   },
   "file_extension": ".py",
   "mimetype": "text/x-python",
   "name": "python",
   "nbconvert_exporter": "python",
   "pygments_lexer": "ipython3",
   "version": "3.9.12"
  }
 },
 "nbformat": 4,
 "nbformat_minor": 5
}
