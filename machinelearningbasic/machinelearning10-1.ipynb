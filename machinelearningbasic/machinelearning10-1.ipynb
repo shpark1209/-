{
 "cells": [
  {
   "cell_type": "code",
   "execution_count": 2,
   "id": "9e94d8ad",
   "metadata": {},
   "outputs": [],
   "source": [
    "import numpy as np\n",
    "from sklearn.datasets import load_breast_cancer"
   ]
  },
  {
   "cell_type": "code",
   "execution_count": 3,
   "id": "1ed12cd1",
   "metadata": {},
   "outputs": [
    {
     "name": "stdout",
     "output_type": "stream",
     "text": [
      "dict_keys(['data', 'target', 'frame', 'target_names', 'DESCR', 'feature_names', 'filename', 'data_module'])\n"
     ]
    }
   ],
   "source": [
    "cancer=load_breast_cancer()\n",
    "print(cancer.keys())"
   ]
  },
  {
   "cell_type": "code",
   "execution_count": 5,
   "id": "5d863f27",
   "metadata": {},
   "outputs": [
    {
     "name": "stdout",
     "output_type": "stream",
     "text": [
      "['mean radius' 'mean texture' 'mean perimeter' 'mean area'\n",
      " 'mean smoothness' 'mean compactness' 'mean concavity'\n",
      " 'mean concave points' 'mean symmetry' 'mean fractal dimension'\n",
      " 'radius error' 'texture error' 'perimeter error' 'area error'\n",
      " 'smoothness error' 'compactness error' 'concavity error'\n",
      " 'concave points error' 'symmetry error' 'fractal dimension error'\n",
      " 'worst radius' 'worst texture' 'worst perimeter' 'worst area'\n",
      " 'worst smoothness' 'worst compactness' 'worst concavity'\n",
      " 'worst concave points' 'worst symmetry' 'worst fractal dimension']\n",
      "30\n",
      "['malignant' 'benign']\n"
     ]
    }
   ],
   "source": [
    "print(cancer['feature_names'])\n",
    "print(len(cancer['feature_names']))\n",
    "print(cancer['target_names'])"
   ]
  },
  {
   "cell_type": "code",
   "execution_count": 6,
   "id": "46caad74",
   "metadata": {},
   "outputs": [
    {
     "name": "stdout",
     "output_type": "stream",
     "text": [
      "data shape: (569, 30)\n",
      "target shape: (569,)\n"
     ]
    }
   ],
   "source": [
    "print('data shape:', cancer['data'].shape)\n",
    "print('target shape:', cancer['target'].shape)"
   ]
  },
  {
   "cell_type": "code",
   "execution_count": 7,
   "id": "1f18d3be",
   "metadata": {},
   "outputs": [
    {
     "name": "stdout",
     "output_type": "stream",
     "text": [
      "[[2.060e+01 2.933e+01 1.401e+02 1.265e+03 1.178e-01 2.770e-01 3.514e-01\n",
      "  1.520e-01 2.397e-01 7.016e-02 7.260e-01 1.595e+00 5.772e+00 8.622e+01\n",
      "  6.522e-03 6.158e-02 7.117e-02 1.664e-02 2.324e-02 6.185e-03 2.574e+01\n",
      "  3.942e+01 1.846e+02 1.821e+03 1.650e-01 8.681e-01 9.387e-01 2.650e-01\n",
      "  4.087e-01 1.240e-01]\n",
      " [7.760e+00 2.454e+01 4.792e+01 1.810e+02 5.263e-02 4.362e-02 0.000e+00\n",
      "  0.000e+00 1.587e-01 5.884e-02 3.857e-01 1.428e+00 2.548e+00 1.915e+01\n",
      "  7.189e-03 4.660e-03 0.000e+00 0.000e+00 2.676e-02 2.783e-03 9.456e+00\n",
      "  3.037e+01 5.916e+01 2.686e+02 8.996e-02 6.444e-02 0.000e+00 0.000e+00\n",
      "  2.871e-01 7.039e-02]]\n",
      "[0 1]\n"
     ]
    }
   ],
   "source": [
    "print(cancer['data'][-2:])\n",
    "print(cancer['target'][-2:])"
   ]
  },
  {
   "cell_type": "code",
   "execution_count": 8,
   "id": "a7cb3ae1",
   "metadata": {},
   "outputs": [],
   "source": [
    "x=cancer['data']\n",
    "y=cancer['target']\n",
    "index=[i for i in range(x.shape[0])]\n",
    "np.random.shuffle(index)\n",
    "x=x[index]\n",
    "y=y[index]"
   ]
  },
  {
   "cell_type": "code",
   "execution_count": 10,
   "id": "f7ee2c32",
   "metadata": {},
   "outputs": [
    {
     "name": "stdout",
     "output_type": "stream",
     "text": [
      "train data: (400, 30) test data: (169, 30)\n",
      "train target: (400,) test data: (169,)\n"
     ]
    }
   ],
   "source": [
    "x_train, y_train=x[:400], y[:400]\n",
    "x_test, y_test=x[400:], y[400:]\n",
    "print('train data:', x_train.shape, 'test data:', x_test.shape)\n",
    "print('train target:', y_train.shape, 'test data:', y_test.shape)"
   ]
  },
  {
   "cell_type": "code",
   "execution_count": 11,
   "id": "500a24ee",
   "metadata": {},
   "outputs": [],
   "source": [
    "w=0.0001*np.random.randn(30)\n",
    "b=0.001*np.random.randn(1)\n",
    "def linear(x):\n",
    "    return x.dot(w)+b\n",
    "def sigmoid(x):\n",
    "    return 1/(1+np.exp(-x))"
   ]
  },
  {
   "cell_type": "code",
   "execution_count": 12,
   "id": "5e6b21f9",
   "metadata": {},
   "outputs": [],
   "source": [
    "def cross_entropy_error(p,y):\n",
    "    delta=1e-7\n",
    "    return -np.average(y*np.log(p+delta)+(1-y)*np.log(1-p+delta))"
   ]
  },
  {
   "cell_type": "code",
   "execution_count": 13,
   "id": "5eac638d",
   "metadata": {},
   "outputs": [],
   "source": [
    "def numerical_gradient(f,theta):\n",
    "    h=1e-4\n",
    "    grad=np.zeros_like(theta)\n",
    "    for idx in range(theta.size):\n",
    "        tmp_val=theta[idx]\n",
    "        theta[idx]=tmp_val+h\n",
    "        fxh1=f(theta)\n",
    "        theta[idx]=tmp_val-h\n",
    "        fxh2=f(theta)\n",
    "        grad[idx]=(fxh1-fxh2)/(2*h)\n",
    "        theta[idx]=tmp_val\n",
    "    return grad"
   ]
  },
  {
   "cell_type": "code",
   "execution_count": 14,
   "id": "205442bb",
   "metadata": {},
   "outputs": [
    {
     "name": "stdout",
     "output_type": "stream",
     "text": [
      "0 epoch, train loss=0.7257258633377814\n",
      "1000 epoch, train loss=0.2082227338360304\n",
      "2000 epoch, train loss=0.2021645459426015\n",
      "3000 epoch, train loss=0.1986718139945929\n",
      "4000 epoch, train loss=0.19584206268580318\n",
      "5000 epoch, train loss=0.19340639408769497\n",
      "6000 epoch, train loss=0.19126048839684287\n",
      "7000 epoch, train loss=0.18934793749286938\n",
      "8000 epoch, train loss=0.1876312850201962\n",
      "9000 epoch, train loss=0.186082632370056\n",
      "10000 epoch, train loss=0.18467980436543627\n",
      "11000 epoch, train loss=0.18340446851159\n",
      "12000 epoch, train loss=0.18224109010545889\n",
      "13000 epoch, train loss=0.1811762999135089\n",
      "14000 epoch, train loss=0.18019848331671473\n",
      "15000 epoch, train loss=0.17929749428958253\n",
      "16000 epoch, train loss=0.1784644425597237\n",
      "17000 epoch, train loss=0.17769152572597718\n",
      "18000 epoch, train loss=0.1769718907722704\n",
      "19000 epoch, train loss=0.17629951629755974\n"
     ]
    }
   ],
   "source": [
    "num_epoch=20000\n",
    "learning_rate=0.00003\n",
    "for epoch in range(num_epoch):\n",
    "    w=w-learning_rate*numerical_gradient(lambda w:cross_entropy_error(sigmoid(linear(x_train)), y_train), w)\n",
    "    b=b-learning_rate*numerical_gradient(lambda b:cross_entropy_error(sigmoid(linear(x_train)), y_train), b)\n",
    "    pred=sigmoid(linear(x_train))\n",
    "    loss=cross_entropy_error(pred, y_train)\n",
    "    if epoch%1000==0:\n",
    "        print(\"{0} epoch, train loss={1}\".format(epoch, loss))"
   ]
  },
  {
   "cell_type": "code",
   "execution_count": 15,
   "id": "0d2f181e",
   "metadata": {},
   "outputs": [
    {
     "name": "stdout",
     "output_type": "stream",
     "text": [
      "19999 epoch, train loss=0.18617651756342654\n"
     ]
    }
   ],
   "source": [
    "pred=sigmoid(linear(x_test))\n",
    "loss=cross_entropy_error(pred, y_test)\n",
    "print(\"{0} epoch, train loss={1}\".format(epoch, loss))"
   ]
  },
  {
   "cell_type": "code",
   "execution_count": 16,
   "id": "5f170249",
   "metadata": {},
   "outputs": [
    {
     "name": "stdout",
     "output_type": "stream",
     "text": [
      "[[ 54  10]\n",
      " [  3 102]]\n",
      "              precision    recall  f1-score   support\n",
      "\n",
      "           0       0.95      0.84      0.89        64\n",
      "           1       0.91      0.97      0.94       105\n",
      "\n",
      "    accuracy                           0.92       169\n",
      "   macro avg       0.93      0.91      0.92       169\n",
      "weighted avg       0.92      0.92      0.92       169\n",
      "\n"
     ]
    }
   ],
   "source": [
    "from sklearn.metrics import confusion_matrix\n",
    "from sklearn.metrics import classification_report\n",
    "pred=[0.0 if p<0.5 else 1.0 for p in pred]\n",
    "conf_matrix=confusion_matrix(y_test, pred)\n",
    "print(conf_matrix)\n",
    "#class_report=classification_report(y_test, pred)\n",
    "#print(class_report)"
   ]
  },
  {
   "cell_type": "code",
   "execution_count": 30,
   "id": "76541b81",
   "metadata": {},
   "outputs": [
    {
     "name": "stdout",
     "output_type": "stream",
     "text": [
      "precision\n",
      "malignant precision\n",
      "0.95\n",
      "benign precision\n",
      "0.91\n"
     ]
    }
   ],
   "source": [
    "print('precision')\n",
    "print('malignant precision')\n",
    "malig_prec=(conf_matrix[0][0]/(conf_matrix[0][0]+conf_matrix[1][0]))\n",
    "print(round(malig_prec,2))\n",
    "print('benign precision')\n",
    "benign_prec=(conf_matrix[1][1]/(conf_matrix[0][1]+conf_matrix[1][1]))\n",
    "print(round(benign_prec,2))"
   ]
  },
  {
   "cell_type": "code",
   "execution_count": 31,
   "id": "03cf64cf",
   "metadata": {
    "scrolled": true
   },
   "outputs": [
    {
     "name": "stdout",
     "output_type": "stream",
     "text": [
      "recall\n",
      "malignant recall\n",
      "0.84\n",
      "benign recall\n",
      "0.97\n"
     ]
    }
   ],
   "source": [
    "print('recall')\n",
    "print('malignant recall')\n",
    "malig_recall=(conf_matrix[0][0]/(conf_matrix[0][0]+conf_matrix[0][1]))\n",
    "print(round(malig_recall,2))\n",
    "print('benign recall')\n",
    "benign_recall=(conf_matrix[1][1]/(conf_matrix[1][0]+conf_matrix[1][1]))\n",
    "print(round(benign_recall,2))"
   ]
  },
  {
   "cell_type": "code",
   "execution_count": 32,
   "id": "3ba20707",
   "metadata": {},
   "outputs": [
    {
     "name": "stdout",
     "output_type": "stream",
     "text": [
      "f1-score\n",
      "malignant f1-score\n",
      "0.89\n",
      "benign f1-score\n",
      "0.94\n"
     ]
    }
   ],
   "source": [
    "print('f1-score')\n",
    "print('malignant f1-score')\n",
    "malig_f1=(2*malig_prec*malig_recall)/(malig_prec+malig_recall)\n",
    "print(round(malig_f1,2))\n",
    "print('benign f1-score')\n",
    "benign_f1=(2*benign_prec*benign_recall)/(benign_prec+benign_recall)\n",
    "print(round(benign_f1,2))"
   ]
  },
  {
   "cell_type": "code",
   "execution_count": null,
   "id": "fa713b67",
   "metadata": {},
   "outputs": [],
   "source": []
  }
 ],
 "metadata": {
  "kernelspec": {
   "display_name": "Python 3 (ipykernel)",
   "language": "python",
   "name": "python3"
  },
  "language_info": {
   "codemirror_mode": {
    "name": "ipython",
    "version": 3
   },
   "file_extension": ".py",
   "mimetype": "text/x-python",
   "name": "python",
   "nbconvert_exporter": "python",
   "pygments_lexer": "ipython3",
   "version": "3.9.12"
  }
 },
 "nbformat": 4,
 "nbformat_minor": 5
}
